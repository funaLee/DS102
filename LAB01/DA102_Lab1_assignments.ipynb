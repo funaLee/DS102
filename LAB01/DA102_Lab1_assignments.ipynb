{
  "cells": [
    {
      "cell_type": "markdown",
      "metadata": {
        "id": "_uuSSlRXU3S6"
      },
      "source": [
        "### Assignment 1 (3 scores):\n",
        "\n",
        "- Use the Numpy library only to construct the Linear Regression model.\n",
        "- Train and Evaluate that Linear Regression model on the [Forest Fires](https://archive.ics.uci.edu/static/public/162/forest+fires.zip) dataset."
      ]
    },
    {
      "cell_type": "code",
      "execution_count": 1,
      "metadata": {
        "id": "nb0SbLFT-Vnf"
      },
      "outputs": [],
      "source": [
        "import numpy as np\n",
        "import pandas as pd"
      ]
    },
    {
      "cell_type": "markdown",
      "metadata": {
        "id": "JQVFK1rlyw5D"
      },
      "source": [
        "#### Step 1: Load dataset\n",
        "\n",
        "\n"
      ]
    },
    {
      "cell_type": "code",
      "execution_count": 2,
      "metadata": {
        "colab": {
          "base_uri": "https://localhost:8080/"
        },
        "id": "QVCxE36f44Q9",
        "outputId": "1ab43ecf-f1d5-43d1-cc0b-5400d14583dd"
      },
      "outputs": [
        {
          "name": "stdout",
          "output_type": "stream",
          "text": [
            "--2025-10-01 13:28:00--  https://archive.ics.uci.edu/static/public/162/forest+fires.zip\n",
            "Resolving archive.ics.uci.edu (archive.ics.uci.edu)... 128.195.10.252\n",
            "Connecting to archive.ics.uci.edu (archive.ics.uci.edu)|128.195.10.252|:443... connected.\n",
            "HTTP request sent, awaiting response... 200 OK\n",
            "Length: unspecified\n",
            "Saving to: ‘forestfires.zip’\n",
            "\n",
            "forestfires.zip         [ <=>                ]   8.72K  --.-KB/s    in 0s      \n",
            "\n",
            "2025-10-01 13:28:01 (87.3 MB/s) - ‘forestfires.zip’ saved [8932]\n",
            "\n",
            "/bin/bash: line 1: unzip: command not found\n"
          ]
        }
      ],
      "source": [
        "!wget https://archive.ics.uci.edu/static/public/162/forest+fires.zip -O forestfires.zip\n",
        "!unzip forestfires.zip"
      ]
    },
    {
      "cell_type": "code",
      "execution_count": 3,
      "metadata": {
        "colab": {
          "base_uri": "https://localhost:8080/",
          "height": 677
        },
        "id": "PbyEF6Kcy2yo",
        "outputId": "ca652d25-2680-4c5c-8447-23f6a2a593fe"
      },
      "outputs": [
        {
          "data": {
            "text/html": [
              "<div>\n",
              "<style scoped>\n",
              "    .dataframe tbody tr th:only-of-type {\n",
              "        vertical-align: middle;\n",
              "    }\n",
              "\n",
              "    .dataframe tbody tr th {\n",
              "        vertical-align: top;\n",
              "    }\n",
              "\n",
              "    .dataframe thead th {\n",
              "        text-align: right;\n",
              "    }\n",
              "</style>\n",
              "<table border=\"1\" class=\"dataframe\">\n",
              "  <thead>\n",
              "    <tr style=\"text-align: right;\">\n",
              "      <th></th>\n",
              "      <th>X</th>\n",
              "      <th>Y</th>\n",
              "      <th>month</th>\n",
              "      <th>day</th>\n",
              "      <th>FFMC</th>\n",
              "      <th>DMC</th>\n",
              "      <th>DC</th>\n",
              "      <th>ISI</th>\n",
              "      <th>temp</th>\n",
              "      <th>RH</th>\n",
              "      <th>wind</th>\n",
              "      <th>rain</th>\n",
              "      <th>area</th>\n",
              "    </tr>\n",
              "  </thead>\n",
              "  <tbody>\n",
              "    <tr>\n",
              "      <th>0</th>\n",
              "      <td>7</td>\n",
              "      <td>5</td>\n",
              "      <td>mar</td>\n",
              "      <td>fri</td>\n",
              "      <td>86.2</td>\n",
              "      <td>26.2</td>\n",
              "      <td>94.3</td>\n",
              "      <td>5.1</td>\n",
              "      <td>8.2</td>\n",
              "      <td>51</td>\n",
              "      <td>6.7</td>\n",
              "      <td>0.0</td>\n",
              "      <td>0.0</td>\n",
              "    </tr>\n",
              "    <tr>\n",
              "      <th>1</th>\n",
              "      <td>7</td>\n",
              "      <td>4</td>\n",
              "      <td>oct</td>\n",
              "      <td>tue</td>\n",
              "      <td>90.6</td>\n",
              "      <td>35.4</td>\n",
              "      <td>669.1</td>\n",
              "      <td>6.7</td>\n",
              "      <td>18.0</td>\n",
              "      <td>33</td>\n",
              "      <td>0.9</td>\n",
              "      <td>0.0</td>\n",
              "      <td>0.0</td>\n",
              "    </tr>\n",
              "    <tr>\n",
              "      <th>2</th>\n",
              "      <td>7</td>\n",
              "      <td>4</td>\n",
              "      <td>oct</td>\n",
              "      <td>sat</td>\n",
              "      <td>90.6</td>\n",
              "      <td>43.7</td>\n",
              "      <td>686.9</td>\n",
              "      <td>6.7</td>\n",
              "      <td>14.6</td>\n",
              "      <td>33</td>\n",
              "      <td>1.3</td>\n",
              "      <td>0.0</td>\n",
              "      <td>0.0</td>\n",
              "    </tr>\n",
              "    <tr>\n",
              "      <th>3</th>\n",
              "      <td>8</td>\n",
              "      <td>6</td>\n",
              "      <td>mar</td>\n",
              "      <td>fri</td>\n",
              "      <td>91.7</td>\n",
              "      <td>33.3</td>\n",
              "      <td>77.5</td>\n",
              "      <td>9.0</td>\n",
              "      <td>8.3</td>\n",
              "      <td>97</td>\n",
              "      <td>4.0</td>\n",
              "      <td>0.2</td>\n",
              "      <td>0.0</td>\n",
              "    </tr>\n",
              "    <tr>\n",
              "      <th>4</th>\n",
              "      <td>8</td>\n",
              "      <td>6</td>\n",
              "      <td>mar</td>\n",
              "      <td>sun</td>\n",
              "      <td>89.3</td>\n",
              "      <td>51.3</td>\n",
              "      <td>102.2</td>\n",
              "      <td>9.6</td>\n",
              "      <td>11.4</td>\n",
              "      <td>99</td>\n",
              "      <td>1.8</td>\n",
              "      <td>0.0</td>\n",
              "      <td>0.0</td>\n",
              "    </tr>\n",
              "    <tr>\n",
              "      <th>5</th>\n",
              "      <td>8</td>\n",
              "      <td>6</td>\n",
              "      <td>aug</td>\n",
              "      <td>sun</td>\n",
              "      <td>92.3</td>\n",
              "      <td>85.3</td>\n",
              "      <td>488.0</td>\n",
              "      <td>14.7</td>\n",
              "      <td>22.2</td>\n",
              "      <td>29</td>\n",
              "      <td>5.4</td>\n",
              "      <td>0.0</td>\n",
              "      <td>0.0</td>\n",
              "    </tr>\n",
              "    <tr>\n",
              "      <th>6</th>\n",
              "      <td>8</td>\n",
              "      <td>6</td>\n",
              "      <td>aug</td>\n",
              "      <td>mon</td>\n",
              "      <td>92.3</td>\n",
              "      <td>88.9</td>\n",
              "      <td>495.6</td>\n",
              "      <td>8.5</td>\n",
              "      <td>24.1</td>\n",
              "      <td>27</td>\n",
              "      <td>3.1</td>\n",
              "      <td>0.0</td>\n",
              "      <td>0.0</td>\n",
              "    </tr>\n",
              "    <tr>\n",
              "      <th>7</th>\n",
              "      <td>8</td>\n",
              "      <td>6</td>\n",
              "      <td>aug</td>\n",
              "      <td>mon</td>\n",
              "      <td>91.5</td>\n",
              "      <td>145.4</td>\n",
              "      <td>608.2</td>\n",
              "      <td>10.7</td>\n",
              "      <td>8.0</td>\n",
              "      <td>86</td>\n",
              "      <td>2.2</td>\n",
              "      <td>0.0</td>\n",
              "      <td>0.0</td>\n",
              "    </tr>\n",
              "    <tr>\n",
              "      <th>8</th>\n",
              "      <td>8</td>\n",
              "      <td>6</td>\n",
              "      <td>sep</td>\n",
              "      <td>tue</td>\n",
              "      <td>91.0</td>\n",
              "      <td>129.5</td>\n",
              "      <td>692.6</td>\n",
              "      <td>7.0</td>\n",
              "      <td>13.1</td>\n",
              "      <td>63</td>\n",
              "      <td>5.4</td>\n",
              "      <td>0.0</td>\n",
              "      <td>0.0</td>\n",
              "    </tr>\n",
              "    <tr>\n",
              "      <th>9</th>\n",
              "      <td>7</td>\n",
              "      <td>5</td>\n",
              "      <td>sep</td>\n",
              "      <td>sat</td>\n",
              "      <td>92.5</td>\n",
              "      <td>88.0</td>\n",
              "      <td>698.6</td>\n",
              "      <td>7.1</td>\n",
              "      <td>22.8</td>\n",
              "      <td>40</td>\n",
              "      <td>4.0</td>\n",
              "      <td>0.0</td>\n",
              "      <td>0.0</td>\n",
              "    </tr>\n",
              "    <tr>\n",
              "      <th>10</th>\n",
              "      <td>7</td>\n",
              "      <td>5</td>\n",
              "      <td>sep</td>\n",
              "      <td>sat</td>\n",
              "      <td>92.5</td>\n",
              "      <td>88.0</td>\n",
              "      <td>698.6</td>\n",
              "      <td>7.1</td>\n",
              "      <td>17.8</td>\n",
              "      <td>51</td>\n",
              "      <td>7.2</td>\n",
              "      <td>0.0</td>\n",
              "      <td>0.0</td>\n",
              "    </tr>\n",
              "    <tr>\n",
              "      <th>11</th>\n",
              "      <td>7</td>\n",
              "      <td>5</td>\n",
              "      <td>sep</td>\n",
              "      <td>sat</td>\n",
              "      <td>92.8</td>\n",
              "      <td>73.2</td>\n",
              "      <td>713.0</td>\n",
              "      <td>22.6</td>\n",
              "      <td>19.3</td>\n",
              "      <td>38</td>\n",
              "      <td>4.0</td>\n",
              "      <td>0.0</td>\n",
              "      <td>0.0</td>\n",
              "    </tr>\n",
              "    <tr>\n",
              "      <th>12</th>\n",
              "      <td>6</td>\n",
              "      <td>5</td>\n",
              "      <td>aug</td>\n",
              "      <td>fri</td>\n",
              "      <td>63.5</td>\n",
              "      <td>70.8</td>\n",
              "      <td>665.3</td>\n",
              "      <td>0.8</td>\n",
              "      <td>17.0</td>\n",
              "      <td>72</td>\n",
              "      <td>6.7</td>\n",
              "      <td>0.0</td>\n",
              "      <td>0.0</td>\n",
              "    </tr>\n",
              "    <tr>\n",
              "      <th>13</th>\n",
              "      <td>6</td>\n",
              "      <td>5</td>\n",
              "      <td>sep</td>\n",
              "      <td>mon</td>\n",
              "      <td>90.9</td>\n",
              "      <td>126.5</td>\n",
              "      <td>686.5</td>\n",
              "      <td>7.0</td>\n",
              "      <td>21.3</td>\n",
              "      <td>42</td>\n",
              "      <td>2.2</td>\n",
              "      <td>0.0</td>\n",
              "      <td>0.0</td>\n",
              "    </tr>\n",
              "    <tr>\n",
              "      <th>14</th>\n",
              "      <td>6</td>\n",
              "      <td>5</td>\n",
              "      <td>sep</td>\n",
              "      <td>wed</td>\n",
              "      <td>92.9</td>\n",
              "      <td>133.3</td>\n",
              "      <td>699.6</td>\n",
              "      <td>9.2</td>\n",
              "      <td>26.4</td>\n",
              "      <td>21</td>\n",
              "      <td>4.5</td>\n",
              "      <td>0.0</td>\n",
              "      <td>0.0</td>\n",
              "    </tr>\n",
              "    <tr>\n",
              "      <th>15</th>\n",
              "      <td>6</td>\n",
              "      <td>5</td>\n",
              "      <td>sep</td>\n",
              "      <td>fri</td>\n",
              "      <td>93.3</td>\n",
              "      <td>141.2</td>\n",
              "      <td>713.9</td>\n",
              "      <td>13.9</td>\n",
              "      <td>22.9</td>\n",
              "      <td>44</td>\n",
              "      <td>5.4</td>\n",
              "      <td>0.0</td>\n",
              "      <td>0.0</td>\n",
              "    </tr>\n",
              "    <tr>\n",
              "      <th>16</th>\n",
              "      <td>5</td>\n",
              "      <td>5</td>\n",
              "      <td>mar</td>\n",
              "      <td>sat</td>\n",
              "      <td>91.7</td>\n",
              "      <td>35.8</td>\n",
              "      <td>80.8</td>\n",
              "      <td>7.8</td>\n",
              "      <td>15.1</td>\n",
              "      <td>27</td>\n",
              "      <td>5.4</td>\n",
              "      <td>0.0</td>\n",
              "      <td>0.0</td>\n",
              "    </tr>\n",
              "    <tr>\n",
              "      <th>17</th>\n",
              "      <td>8</td>\n",
              "      <td>5</td>\n",
              "      <td>oct</td>\n",
              "      <td>mon</td>\n",
              "      <td>84.9</td>\n",
              "      <td>32.8</td>\n",
              "      <td>664.2</td>\n",
              "      <td>3.0</td>\n",
              "      <td>16.7</td>\n",
              "      <td>47</td>\n",
              "      <td>4.9</td>\n",
              "      <td>0.0</td>\n",
              "      <td>0.0</td>\n",
              "    </tr>\n",
              "    <tr>\n",
              "      <th>18</th>\n",
              "      <td>6</td>\n",
              "      <td>4</td>\n",
              "      <td>mar</td>\n",
              "      <td>wed</td>\n",
              "      <td>89.2</td>\n",
              "      <td>27.9</td>\n",
              "      <td>70.8</td>\n",
              "      <td>6.3</td>\n",
              "      <td>15.9</td>\n",
              "      <td>35</td>\n",
              "      <td>4.0</td>\n",
              "      <td>0.0</td>\n",
              "      <td>0.0</td>\n",
              "    </tr>\n",
              "    <tr>\n",
              "      <th>19</th>\n",
              "      <td>6</td>\n",
              "      <td>4</td>\n",
              "      <td>apr</td>\n",
              "      <td>sat</td>\n",
              "      <td>86.3</td>\n",
              "      <td>27.4</td>\n",
              "      <td>97.1</td>\n",
              "      <td>5.1</td>\n",
              "      <td>9.3</td>\n",
              "      <td>44</td>\n",
              "      <td>4.5</td>\n",
              "      <td>0.0</td>\n",
              "      <td>0.0</td>\n",
              "    </tr>\n",
              "  </tbody>\n",
              "</table>\n",
              "</div>"
            ],
            "text/plain": [
              "    X  Y month  day  FFMC    DMC     DC   ISI  temp  RH  wind  rain  area\n",
              "0   7  5   mar  fri  86.2   26.2   94.3   5.1   8.2  51   6.7   0.0   0.0\n",
              "1   7  4   oct  tue  90.6   35.4  669.1   6.7  18.0  33   0.9   0.0   0.0\n",
              "2   7  4   oct  sat  90.6   43.7  686.9   6.7  14.6  33   1.3   0.0   0.0\n",
              "3   8  6   mar  fri  91.7   33.3   77.5   9.0   8.3  97   4.0   0.2   0.0\n",
              "4   8  6   mar  sun  89.3   51.3  102.2   9.6  11.4  99   1.8   0.0   0.0\n",
              "5   8  6   aug  sun  92.3   85.3  488.0  14.7  22.2  29   5.4   0.0   0.0\n",
              "6   8  6   aug  mon  92.3   88.9  495.6   8.5  24.1  27   3.1   0.0   0.0\n",
              "7   8  6   aug  mon  91.5  145.4  608.2  10.7   8.0  86   2.2   0.0   0.0\n",
              "8   8  6   sep  tue  91.0  129.5  692.6   7.0  13.1  63   5.4   0.0   0.0\n",
              "9   7  5   sep  sat  92.5   88.0  698.6   7.1  22.8  40   4.0   0.0   0.0\n",
              "10  7  5   sep  sat  92.5   88.0  698.6   7.1  17.8  51   7.2   0.0   0.0\n",
              "11  7  5   sep  sat  92.8   73.2  713.0  22.6  19.3  38   4.0   0.0   0.0\n",
              "12  6  5   aug  fri  63.5   70.8  665.3   0.8  17.0  72   6.7   0.0   0.0\n",
              "13  6  5   sep  mon  90.9  126.5  686.5   7.0  21.3  42   2.2   0.0   0.0\n",
              "14  6  5   sep  wed  92.9  133.3  699.6   9.2  26.4  21   4.5   0.0   0.0\n",
              "15  6  5   sep  fri  93.3  141.2  713.9  13.9  22.9  44   5.4   0.0   0.0\n",
              "16  5  5   mar  sat  91.7   35.8   80.8   7.8  15.1  27   5.4   0.0   0.0\n",
              "17  8  5   oct  mon  84.9   32.8  664.2   3.0  16.7  47   4.9   0.0   0.0\n",
              "18  6  4   mar  wed  89.2   27.9   70.8   6.3  15.9  35   4.0   0.0   0.0\n",
              "19  6  4   apr  sat  86.3   27.4   97.1   5.1   9.3  44   4.5   0.0   0.0"
            ]
          },
          "metadata": {},
          "output_type": "display_data"
        }
      ],
      "source": [
        "file_path = \"forestfires.csv\"\n",
        "\n",
        "df = pd.read_csv(file_path)\n",
        "\n",
        "display(df.head(20))"
      ]
    },
    {
      "cell_type": "markdown",
      "metadata": {
        "id": "DmqBdhHVARGN"
      },
      "source": [
        "#### Step 2: Data preprocessing"
      ]
    },
    {
      "cell_type": "code",
      "execution_count": 4,
      "metadata": {
        "id": "D3wbaIeIAT8i"
      },
      "outputs": [],
      "source": [
        "month_map = {\n",
        "    'jan': 1, 'feb': 2, 'mar': 3, 'apr': 4, 'may': 5, 'jun': 6,\n",
        "    'jul': 7, 'aug': 8, 'sep': 9, 'oct': 10, 'nov': 11, 'dec': 12\n",
        "}\n",
        "# Áp dụng ánh xạ vào cột 'month'\n",
        "df['month'] = df['month'].map(month_map)\n",
        "\n",
        "day_map = {\n",
        "    'mon': 2, 'tue': 3, 'wed': 4, 'thu': 5, 'fri': 6, 'sat': 7, 'sun': 8\n",
        "}\n",
        "# Áp dụng ánh xạ vào cột 'day'\n",
        "df['day'] = df['day'].map(day_map)"
      ]
    },
    {
      "cell_type": "code",
      "execution_count": 31,
      "metadata": {},
      "outputs": [
        {
          "data": {
            "text/html": [
              "<div>\n",
              "<style scoped>\n",
              "    .dataframe tbody tr th:only-of-type {\n",
              "        vertical-align: middle;\n",
              "    }\n",
              "\n",
              "    .dataframe tbody tr th {\n",
              "        vertical-align: top;\n",
              "    }\n",
              "\n",
              "    .dataframe thead th {\n",
              "        text-align: right;\n",
              "    }\n",
              "</style>\n",
              "<table border=\"1\" class=\"dataframe\">\n",
              "  <thead>\n",
              "    <tr style=\"text-align: right;\">\n",
              "      <th></th>\n",
              "      <th>X</th>\n",
              "      <th>Y</th>\n",
              "      <th>month</th>\n",
              "      <th>day</th>\n",
              "      <th>FFMC</th>\n",
              "      <th>DMC</th>\n",
              "      <th>DC</th>\n",
              "      <th>ISI</th>\n",
              "      <th>temp</th>\n",
              "      <th>RH</th>\n",
              "      <th>wind</th>\n",
              "      <th>rain</th>\n",
              "      <th>area</th>\n",
              "    </tr>\n",
              "  </thead>\n",
              "  <tbody>\n",
              "    <tr>\n",
              "      <th>0</th>\n",
              "      <td>7</td>\n",
              "      <td>5</td>\n",
              "      <td>3</td>\n",
              "      <td>6</td>\n",
              "      <td>86.2</td>\n",
              "      <td>26.2</td>\n",
              "      <td>94.3</td>\n",
              "      <td>5.1</td>\n",
              "      <td>8.2</td>\n",
              "      <td>51</td>\n",
              "      <td>6.7</td>\n",
              "      <td>0.0</td>\n",
              "      <td>0.0</td>\n",
              "    </tr>\n",
              "    <tr>\n",
              "      <th>1</th>\n",
              "      <td>7</td>\n",
              "      <td>4</td>\n",
              "      <td>10</td>\n",
              "      <td>3</td>\n",
              "      <td>90.6</td>\n",
              "      <td>35.4</td>\n",
              "      <td>669.1</td>\n",
              "      <td>6.7</td>\n",
              "      <td>18.0</td>\n",
              "      <td>33</td>\n",
              "      <td>0.9</td>\n",
              "      <td>0.0</td>\n",
              "      <td>0.0</td>\n",
              "    </tr>\n",
              "    <tr>\n",
              "      <th>2</th>\n",
              "      <td>7</td>\n",
              "      <td>4</td>\n",
              "      <td>10</td>\n",
              "      <td>7</td>\n",
              "      <td>90.6</td>\n",
              "      <td>43.7</td>\n",
              "      <td>686.9</td>\n",
              "      <td>6.7</td>\n",
              "      <td>14.6</td>\n",
              "      <td>33</td>\n",
              "      <td>1.3</td>\n",
              "      <td>0.0</td>\n",
              "      <td>0.0</td>\n",
              "    </tr>\n",
              "    <tr>\n",
              "      <th>3</th>\n",
              "      <td>8</td>\n",
              "      <td>6</td>\n",
              "      <td>3</td>\n",
              "      <td>6</td>\n",
              "      <td>91.7</td>\n",
              "      <td>33.3</td>\n",
              "      <td>77.5</td>\n",
              "      <td>9.0</td>\n",
              "      <td>8.3</td>\n",
              "      <td>97</td>\n",
              "      <td>4.0</td>\n",
              "      <td>0.2</td>\n",
              "      <td>0.0</td>\n",
              "    </tr>\n",
              "    <tr>\n",
              "      <th>4</th>\n",
              "      <td>8</td>\n",
              "      <td>6</td>\n",
              "      <td>3</td>\n",
              "      <td>8</td>\n",
              "      <td>89.3</td>\n",
              "      <td>51.3</td>\n",
              "      <td>102.2</td>\n",
              "      <td>9.6</td>\n",
              "      <td>11.4</td>\n",
              "      <td>99</td>\n",
              "      <td>1.8</td>\n",
              "      <td>0.0</td>\n",
              "      <td>0.0</td>\n",
              "    </tr>\n",
              "  </tbody>\n",
              "</table>\n",
              "</div>"
            ],
            "text/plain": [
              "   X  Y  month  day  FFMC   DMC     DC  ISI  temp  RH  wind  rain  area\n",
              "0  7  5      3    6  86.2  26.2   94.3  5.1   8.2  51   6.7   0.0   0.0\n",
              "1  7  4     10    3  90.6  35.4  669.1  6.7  18.0  33   0.9   0.0   0.0\n",
              "2  7  4     10    7  90.6  43.7  686.9  6.7  14.6  33   1.3   0.0   0.0\n",
              "3  8  6      3    6  91.7  33.3   77.5  9.0   8.3  97   4.0   0.2   0.0\n",
              "4  8  6      3    8  89.3  51.3  102.2  9.6  11.4  99   1.8   0.0   0.0"
            ]
          },
          "execution_count": 31,
          "metadata": {},
          "output_type": "execute_result"
        }
      ],
      "source": [
        "df.head()"
      ]
    },
    {
      "cell_type": "markdown",
      "metadata": {
        "id": "rqkUDDJQC1wN"
      },
      "source": [
        "Tách biến độc lập (x) và biến phụ thuộc (y)"
      ]
    },
    {
      "cell_type": "code",
      "execution_count": 24,
      "metadata": {
        "id": "1W9GXlo1ChMY"
      },
      "outputs": [],
      "source": [
        "# Biến phụ thuộc y là 'area', áp dụng log transformation để giảm độ lệch\n",
        "y = df['area']\n",
        "# Biến độc lập X là tất cả các cột còn lại\n",
        "X = df.drop('area', axis=1)"
      ]
    },
    {
      "cell_type": "code",
      "execution_count": 25,
      "metadata": {},
      "outputs": [
        {
          "name": "stdout",
          "output_type": "stream",
          "text": [
            "0       0.00\n",
            "1       0.00\n",
            "2       0.00\n",
            "3       0.00\n",
            "4       0.00\n",
            "       ...  \n",
            "512     6.44\n",
            "513    54.29\n",
            "514    11.16\n",
            "515     0.00\n",
            "516     0.00\n",
            "Name: area, Length: 517, dtype: float64\n"
          ]
        }
      ],
      "source": [
        "print(y)"
      ]
    },
    {
      "cell_type": "markdown",
      "metadata": {
        "id": "C9DEv3WcC815"
      },
      "source": [
        "Tách tập train và test"
      ]
    },
    {
      "cell_type": "code",
      "execution_count": 26,
      "metadata": {
        "id": "zj0bpq2Ult_H"
      },
      "outputs": [],
      "source": [
        "X_y = np.c_[X, y]\n",
        "N = X_y.shape[0]\n",
        "train_size = int(N * 0.8)\n",
        "np.random.seed(42)\n",
        "np.random.shuffle(X_y)\n",
        "\n",
        "X_y_train = X_y[:train_size]\n",
        "X_y_test = X_y[train_size:]"
      ]
    },
    {
      "cell_type": "code",
      "execution_count": 27,
      "metadata": {
        "colab": {
          "base_uri": "https://localhost:8080/"
        },
        "id": "ljZzMF0qmDg8",
        "outputId": "1def5ff4-bcaa-4a88-cea5-345f36a8ac0d"
      },
      "outputs": [
        {
          "data": {
            "text/plain": [
              "((413,), (104,))"
            ]
          },
          "execution_count": 27,
          "metadata": {},
          "output_type": "execute_result"
        }
      ],
      "source": [
        "X_train, X_test = X_y_train[:, :-1], X_y_test[:, :-1]\n",
        "X_train.shape, X_test.shape\n",
        "\n",
        "y_train, y_test = X_y_train[:, -1], X_y_test[:, -1]\n",
        "y_train.shape, y_test.shape"
      ]
    },
    {
      "cell_type": "code",
      "execution_count": 28,
      "metadata": {
        "id": "SkjWpru7NXBp"
      },
      "outputs": [],
      "source": [
        "X_train_final = np.c_[np.ones(X_train.shape[0]), X_train]\n",
        "X_test_final = np.c_[np.ones(X_test.shape[0]), X_test]"
      ]
    },
    {
      "cell_type": "markdown",
      "metadata": {
        "id": "Ys0vARJuDmnR"
      },
      "source": [
        "#### Step 3: Model Implementation"
      ]
    },
    {
      "cell_type": "code",
      "execution_count": 9,
      "metadata": {
        "colab": {
          "base_uri": "https://localhost:8080/",
          "height": 157
        },
        "id": "HftS8mU6Do4t",
        "outputId": "38bc3787-19b9-4e34-89d2-6768ba983680"
      },
      "outputs": [
        {
          "data": {
            "text/plain": [
              "'class LinearRegression:\\n  def rmse(self, y: np.ndarray, y_hat: np.ndarray) -> float:\\n    delta = y - y_hat\\n    return np.square(delta).mean()**0.5\\n\\n  def r2_score(self, y_true: np.ndarray, y_pred: np.ndarray) -> float:\\n    ss_res = np.sum(np.square(y_true - y_pred))\\n    ss_tot = np.sum(np.square(y_true - np.mean(y_true)))\\n    return 1 - (ss_res / ss_tot)\\n\\n  def fit(self, X: np.ndarray, y: np.ndarray) -> None:\\n    cov = np.matmul(X.T, X)\\n    inv_cov = np.linalg.inv(cov)\\n    #self.theta_: np.ndarray = np.matmul(inv_cov, np.matmul(X.T, y))\\n    self.theta_ : np.ndarray = inv_cov @ (X.T @ y)\\n\\n  def predict(self, X: np.ndarray) -> np.ndarray:\\n    # y_pred = np.matmul(self.theta_.T, X) # Incorrect matrix multiplication\\n    y_pred = np.matmul(X, self.theta_) # Correct matrix multiplication\\n    return y_pred'"
            ]
          },
          "execution_count": 9,
          "metadata": {},
          "output_type": "execute_result"
        }
      ],
      "source": [
        "'''class LinearRegression:\n",
        "  def rmse(self, y: np.ndarray, y_hat: np.ndarray) -> float:\n",
        "    delta = y - y_hat\n",
        "    return np.square(delta).mean()**0.5\n",
        "\n",
        "  def r2_score(self, y_true: np.ndarray, y_pred: np.ndarray) -> float:\n",
        "    ss_res = np.sum(np.square(y_true - y_pred))\n",
        "    ss_tot = np.sum(np.square(y_true - np.mean(y_true)))\n",
        "    return 1 - (ss_res / ss_tot)\n",
        "\n",
        "  def fit(self, X: np.ndarray, y: np.ndarray) -> None:\n",
        "    cov = np.matmul(X.T, X)\n",
        "    inv_cov = np.linalg.inv(cov)\n",
        "    #self.theta_: np.ndarray = np.matmul(inv_cov, np.matmul(X.T, y))\n",
        "    self.theta_ : np.ndarray = inv_cov @ (X.T @ y)\n",
        "\n",
        "  def predict(self, X: np.ndarray) -> np.ndarray:\n",
        "    # y_pred = np.matmul(self.theta_.T, X) # Incorrect matrix multiplication\n",
        "    y_pred = np.matmul(X, self.theta_) # Correct matrix multiplication\n",
        "    return y_pred'''"
      ]
    },
    {
      "cell_type": "code",
      "execution_count": 10,
      "metadata": {
        "colab": {
          "base_uri": "https://localhost:8080/",
          "height": 192
        },
        "id": "yxPZQ7WtQ8l_",
        "outputId": "58b07ffe-c4d3-4180-c7e5-e8cee7720141"
      },
      "outputs": [
        {
          "data": {
            "text/plain": [
              "'class LinearRegression:\\n    def rmse(self, y_true, y_pred):\\n      return np.sqrt(np.mean(np.square(y_true - y_pred)))\\n\\n    def r2_score(self, y_true, y_pred):\\n      ss_res = np.sum(np.square(y_true - y_pred))\\n      ss_tot = np.sum(np.square(y_true - np.mean(y_true)))\\n      return 1 - (ss_res / ss_tot)\\n\\n    def __init__(self, learning_rate=0.001, iterations=20000):\\n        self.learning_rate = learning_rate\\n        self.iterations = iterations\\n        self.weights = None\\n\\n    def fit(self, X, y):\\n        n_samples, n_features = X.shape\\n        self.weights = np.zeros(n_features) # Khởi tạo trọng số bằng 0\\n\\n        # Vòng lặp Gradient Descent\\n        for _ in range(self.iterations):\\n            # 1. Tính toán dự đoán\\n            predictions = X @ self.weights\\n            # 2. Tính toán lỗi\\n            errors = predictions - y\\n            # 3. Tính toán gradients\\n            gradients = (1 / n_samples) * X.T @ errors\\n            # 4. Cập nhật trọng số\\n            self.weights = self.weights - self.learning_rate * gradients\\n        return self\\n\\n    def predict(self, X):\\n        return X @ self.weights\\n'"
            ]
          },
          "execution_count": 10,
          "metadata": {},
          "output_type": "execute_result"
        }
      ],
      "source": [
        "'''class LinearRegression:\n",
        "    def rmse(self, y_true, y_pred):\n",
        "      return np.sqrt(np.mean(np.square(y_true - y_pred)))\n",
        "\n",
        "    def r2_score(self, y_true, y_pred):\n",
        "      ss_res = np.sum(np.square(y_true - y_pred))\n",
        "      ss_tot = np.sum(np.square(y_true - np.mean(y_true)))\n",
        "      return 1 - (ss_res / ss_tot)\n",
        "\n",
        "    def __init__(self, learning_rate=0.001, iterations=20000):\n",
        "        self.learning_rate = learning_rate\n",
        "        self.iterations = iterations\n",
        "        self.weights = None\n",
        "\n",
        "    def fit(self, X, y):\n",
        "        n_samples, n_features = X.shape\n",
        "        self.weights = np.zeros(n_features) # Khởi tạo trọng số bằng 0\n",
        "\n",
        "        # Vòng lặp Gradient Descent\n",
        "        for _ in range(self.iterations):\n",
        "            # 1. Tính toán dự đoán\n",
        "            predictions = X @ self.weights\n",
        "            # 2. Tính toán lỗi\n",
        "            errors = predictions - y\n",
        "            # 3. Tính toán gradients\n",
        "            gradients = (1 / n_samples) * X.T @ errors\n",
        "            # 4. Cập nhật trọng số\n",
        "            self.weights = self.weights - self.learning_rate * gradients\n",
        "        return self\n",
        "\n",
        "    def predict(self, X):\n",
        "        return X @ self.weights\n",
        "'''"
      ]
    },
    {
      "cell_type": "code",
      "execution_count": 11,
      "metadata": {
        "id": "3jgOICKYXRlr"
      },
      "outputs": [],
      "source": [
        "import numpy as np\n",
        "\n",
        "class LinearRegression:\n",
        "    def rmse(self, y_true, y_pred):\n",
        "      return np.sqrt(np.mean(np.square(y_true - y_pred)))\n",
        "\n",
        "    def r2_score(self, y_true, y_pred):\n",
        "      ss_res = np.sum(np.square(y_true - y_pred))\n",
        "      ss_tot = np.sum(np.square(y_true - np.mean(y_true)))\n",
        "      return 1 - (ss_res / ss_tot)\n",
        "\n",
        "    \"\"\"\n",
        "    Mô hình Hồi quy Tuyến tính giải bằng Phương trình Chuẩn (OLS).\n",
        "    \"\"\"\n",
        "    def __init__(self):\n",
        "        # theta_ sẽ lưu các trọng số của mô hình sau khi huấn luyện\n",
        "        self.theta_ = None\n",
        "\n",
        "    def fit(self, X: np.ndarray, y: np.ndarray) -> None:\n",
        "        \"\"\"\n",
        "        Huấn luyện mô hình bằng công thức OLS (Normal Equation).\n",
        "        Lưu ý: X phải là ma trận đã được thêm cột bias (cột số 1).\n",
        "\n",
        "        Công thức: θ = (XᵀX)⁻¹Xᵀy\n",
        "        \"\"\"\n",
        "        # np.linalg.inv() là hàm tính ma trận nghịch đảo (⁻¹)\n",
        "        # @ là toán tử nhân ma trận\n",
        "        # .T là chuyển vị (transpose)\n",
        "        self.theta_ = np.linalg.inv(X.T @ X) @ (X.T @ y)\n",
        "\n",
        "    def predict(self, X: np.ndarray) -> np.ndarray:\n",
        "        \"\"\"\n",
        "        Đưa ra dự đoán trên dữ liệu mới.\n",
        "        Lưu ý: X phải là ma trận đã được thêm cột bias.\n",
        "\n",
        "        Công thức: y_pred = Xθ\n",
        "        \"\"\"\n",
        "        # Kiểm tra xem mô hình đã được huấn luyện chưa\n",
        "        if self.theta_ is None:\n",
        "            raise Exception(\"Mô hình chưa được huấn luyện. Hãy gọi hàm .fit() trước.\")\n",
        "\n",
        "        return X @ self.theta_"
      ]
    },
    {
      "cell_type": "markdown",
      "metadata": {
        "id": "Obz8oi7uJyUA"
      },
      "source": [
        "#### Step 4: Model training"
      ]
    },
    {
      "cell_type": "code",
      "execution_count": 12,
      "metadata": {
        "colab": {
          "base_uri": "https://localhost:8080/"
        },
        "id": "8lbhxmDoJ7h2",
        "outputId": "4e567429-24ee-4ac6-c6da-c372d6753d33"
      },
      "outputs": [
        {
          "name": "stdout",
          "output_type": "stream",
          "text": [
            "\n",
            "Step 4: Bắt đầu huấn luyện mô hình...\n",
            "✅ Huấn luyện hoàn tất.\n"
          ]
        }
      ],
      "source": [
        "print(\"\\nStep 4: Bắt đầu huấn luyện mô hình...\")\n",
        "\n",
        "model = LinearRegression()\n",
        "model.fit(X_train_final, y_train)\n",
        "\n",
        "print(\"✅ Huấn luyện hoàn tất.\")"
      ]
    },
    {
      "cell_type": "markdown",
      "metadata": {
        "id": "gGLXWy2tKOg8"
      },
      "source": [
        "#### Step 5: Model evaluation"
      ]
    },
    {
      "cell_type": "code",
      "execution_count": 13,
      "metadata": {
        "id": "-k5RjoKkKS5Y"
      },
      "outputs": [],
      "source": [
        "# Dùng mô hình đã huấn luyện để dự đoán trên tập test\n",
        "y_predictions = model.predict(X_test_final)\n",
        "\n",
        "# Dùng phương thức .rmse() và .r2_score() để tính toán  số\n",
        "rmse_score = model.rmse(y_test, y_predictions)\n",
        "r2 = model.r2_score(y_test, y_predictions)"
      ]
    },
    {
      "cell_type": "code",
      "execution_count": 14,
      "metadata": {
        "colab": {
          "base_uri": "https://localhost:8080/"
        },
        "id": "sJMxLZIJLjBK",
        "outputId": "f393e3ef-2cbb-4c07-c200-84ce10c8a2d9"
      },
      "outputs": [
        {
          "name": "stdout",
          "output_type": "stream",
          "text": [
            "\n",
            "--- KẾT QUẢ ĐÁNH GIÁ MÔ HÌNH ---\n",
            "Root Mean Squared Error (RMSE): 1.2403\n",
            "R-squared (R²): -0.0558\n",
            "-----------------------------------\n"
          ]
        }
      ],
      "source": [
        "print(\"\\n--- KẾT QUẢ ĐÁNH GIÁ MÔ HÌNH ---\")\n",
        "print(f\"Root Mean Squared Error (RMSE): {rmse_score:.4f}\")\n",
        "print(f\"R-squared (R²): {r2:.4f}\")\n",
        "print(\"-----------------------------------\")"
      ]
    },
    {
      "cell_type": "markdown",
      "metadata": {
        "id": "oADcqKhjU3S8"
      },
      "source": [
        "### Assignment 2 (3 scores):\n",
        "\n",
        "- Standardize the data so that their mean is $0$ and their variance is $1$.\n",
        "- Compare the results of Linear Regression model when being trained on the original and standardized data."
      ]
    },
    {
      "cell_type": "markdown",
      "metadata": {
        "id": "_VGT8ugRrfTd"
      },
      "source": [
        "chuẩn hóa dữ liệu\n",
        "\n",
        "khác với scale DL\n",
        "\n",
        "trục X Y có hàm Gauss đi qua\n",
        "\n",
        "X ^ = 0, phương sao bằng 1\n",
        "\n",
        "chỉ chuẩn hóa được...\n",
        "\n",
        "biểu diễn 12 biến (12 tên cột), nhân với ma trận trọng số  (xem hình trong đt, hình thứ 2 kể từ ass2). Đặc trưng nào ít tác động đến model thì có beta cao hơn, và ngược lại.\n",
        "\n",
        "Nếu 2 đặc trưng đồng tuyến tính fk <=> fi, thằng này tăng thằng kia cũng tăng, thì chỉ giữ lại 1 cột (vì nó ảnh hướng đến output như nhau)\n",
        "\n",
        "Nếu đầu vào và đầu ra tương quan lẫn nhau fk <=> y thì nên đánh trọng số k cho đầu vào f\n"
      ]
    },
    {
      "cell_type": "markdown",
      "metadata": {
        "id": "thSYJx1xU3S9"
      },
      "source": [
        "#### Data normalization"
      ]
    },
    {
      "cell_type": "markdown",
      "metadata": {
        "id": "BeBp-tRkU3S-"
      },
      "source": [
        "The OLS estimator of a linear regression model has the form\n",
        "\n",
        "$$\n",
        "    \\hat{\\beta} = (X^T X)^{-1} X^T y\n",
        "$$\n",
        "where $X^T X \\in \\mathbb{R}^{K \\times K}$ is called the normal matrix of the **Gram Matrix**.\n",
        "\n",
        "Considering the convariance of $X$, we have\n",
        "\n",
        "\\begin{align}\n",
        "    Cov(X)  & = \\mathbb{E}[(X - \\mathbb{E}[X])^2] \\\\\n",
        "            & = \\mathbb{E}[X^T X - 2 X^T\\mathbb{E}[X] + \\mathbb{E}[X]^T \\mathbb{E}[X]] \\\\\n",
        "            & = \\mathbb{E}[X^T X] - 2 \\mathbb{E}[X^T\\mathbb{E}[X]] + \\mathbb{E}[X]^T \\mathbb{E}[X] \\\\\n",
        "            & = \\mathbb{E}[X^T X] - 2 \\mathbb{E}[X]^T\\mathbb{E}[X] + \\mathbb{E}[X]^T \\mathbb{E}[X] \\\\\n",
        "            & = \\mathbb{E}[X^T X] - \\mathbb{E}[X]^T \\mathbb{E}[X] \\\\\n",
        "\\end{align}\n",
        "\n",
        "In case we have $\\mathbb{E}[X] = 0$, then $X^T X = Cov(X)$. The normalization helps we to have the numerical stability of the input, theoretically leads to stable calculation when being applied to unseen data."
      ]
    },
    {
      "cell_type": "markdown",
      "metadata": {
        "id": "tjhmaq7ZQcgJ"
      },
      "source": [
        "#### Huấn luyện trên dữ liệu chưa chuẩn hóa"
      ]
    },
    {
      "cell_type": "markdown",
      "metadata": {
        "id": "ptmZuWYtPUmd"
      },
      "source": [
        "Kết quả của thí nghiệm này là kết quả từ Assigment 1"
      ]
    },
    {
      "cell_type": "code",
      "execution_count": 15,
      "metadata": {
        "id": "4GO9paVSPZbE"
      },
      "outputs": [],
      "source": [
        "rmse_orig = rmse_score\n",
        "r2_orig = r2"
      ]
    },
    {
      "cell_type": "markdown",
      "metadata": {
        "id": "1nyIMFp_LEEQ"
      },
      "source": [
        "#### Huấn luyện trên dữ liệu đã chuẩn hóa"
      ]
    },
    {
      "cell_type": "markdown",
      "metadata": {
        "id": "zqc7BaLFLNcu"
      },
      "source": [
        "Áp dụng Standardization (trung bình 0, phương sai 1)"
      ]
    },
    {
      "cell_type": "code",
      "execution_count": 16,
      "metadata": {
        "id": "ofwrQ59DLJRs"
      },
      "outputs": [],
      "source": [
        "mean = X_train.mean(axis=0)\n",
        "std = X_train.std(axis=0)\n",
        "\n",
        "std[std == 0] = 1 # Tránh chia cho 0\n",
        "X_train_std = (X_train - mean) / std\n",
        "X_test_std = (X_test - mean) / std"
      ]
    },
    {
      "cell_type": "code",
      "execution_count": 30,
      "metadata": {},
      "outputs": [
        {
          "name": "stdout",
          "output_type": "stream",
          "text": [
            "[[ 0.55601145  0.54913477 -1.11005314 ...  2.98761206  0.49201878\n",
            "  -0.07006144]\n",
            " [ 0.98047121  0.54913477  0.21495249 ...  1.2415217   0.49201878\n",
            "   2.39252362]\n",
            " [ 1.40493097  1.35052225  0.21495249 ... -0.92603873 -1.26756682\n",
            "  -0.07006144]\n",
            " ...\n",
            " [-1.14182758 -1.85502769  0.65662103 ...  0.09753147 -1.26756682\n",
            "  -0.07006144]\n",
            " [ 0.98047121  0.54913477  0.65662103 ... -0.44435864 -1.04052352\n",
            "  -0.07006144]\n",
            " [ 0.98047121 -0.25225272  0.65662103 ...  0.15774148  0.49201878\n",
            "  -0.07006144]]\n"
          ]
        }
      ],
      "source": [
        "print(X_train_std)"
      ]
    },
    {
      "cell_type": "markdown",
      "metadata": {
        "id": "mPfVyGD2LQa0"
      },
      "source": [
        "Thêm cột bias vào dữ liệu đã chuẩn hóa"
      ]
    },
    {
      "cell_type": "code",
      "execution_count": 17,
      "metadata": {
        "id": "U5fvhdrvLTeb"
      },
      "outputs": [],
      "source": [
        "X_train_std_final = np.c_[np.ones(X_train_std.shape[0]), X_train_std]\n",
        "X_test_std_final = np.c_[np.ones(X_test_std.shape[0]), X_test_std]"
      ]
    },
    {
      "cell_type": "markdown",
      "metadata": {
        "id": "RqnfzZXSLVnv"
      },
      "source": [
        "Huấn luyện và đánh giá mô hình trên dữ liệu đã chuẩn hóa"
      ]
    },
    {
      "cell_type": "code",
      "execution_count": 18,
      "metadata": {
        "id": "OxQ-lnI9LYgr"
      },
      "outputs": [],
      "source": [
        "model_std = LinearRegression()\n",
        "model_std.fit(X_train_std_final, y_train)\n",
        "predictions_std = model_std.predict(X_test_std_final)"
      ]
    },
    {
      "cell_type": "code",
      "execution_count": 19,
      "metadata": {
        "id": "Cib5HE-rO0EI"
      },
      "outputs": [],
      "source": [
        "rmse_std = model_std.rmse(y_test, predictions_std)\n",
        "r2_std = model_std.r2_score(y_test, predictions_std)"
      ]
    },
    {
      "cell_type": "markdown",
      "metadata": {
        "id": "zougmm6LLibF"
      },
      "source": [
        "#### So sánh kết quả"
      ]
    },
    {
      "cell_type": "code",
      "execution_count": 20,
      "metadata": {
        "colab": {
          "base_uri": "https://localhost:8080/"
        },
        "id": "v0HtxaK2Lk6d",
        "outputId": "a635d31e-c8c6-431a-f30c-ff5802f6e0ed"
      },
      "outputs": [
        {
          "name": "stdout",
          "output_type": "stream",
          "text": [
            "\n",
            "=================================================================\n",
            "📊 SO SÁNH KẾT QUẢ ASSIGNMENT 2\n",
            "=================================================================\n",
            "| Chỉ số       | Dữ liệu Gốc (Từ Assgn 1)  | Dữ liệu Chuẩn Hóa      |\n",
            "|--------------|---------------------------|------------------------|\n",
            "| RMSE         | 1.2403                    | 1.2403                 |\n",
            "| R-squared    | -0.0558                   | -0.0558                |\n",
            "=================================================================\n"
          ]
        }
      ],
      "source": [
        "\"\"\"#### So sánh kết quả Assignment 2\"\"\"\n",
        "print(\"\\n\" + \"=\"*65)\n",
        "print(\"📊 SO SÁNH KẾT QUẢ ASSIGNMENT 2\")\n",
        "print(\"=\"*65)\n",
        "print(f\"| {'Chỉ số':<12} | {'Dữ liệu Gốc (Từ Assgn 1)':<25} | {'Dữ liệu Chuẩn Hóa':<22} |\")\n",
        "print(f\"|{'-'*14}|{'-'*27}|{'-'*24}|\")\n",
        "\n",
        "print(f\"| {'RMSE':<12} | {rmse_orig:<25.4f} | {rmse_std:<22.4f} |\")\n",
        "print(f\"| {'R-squared':<12} | {r2_orig:<25.4f} | {r2_std:<22.4f} |\")\n",
        "print(\"=\"*65)"
      ]
    },
    {
      "cell_type": "code",
      "execution_count": 21,
      "metadata": {
        "colab": {
          "base_uri": "https://localhost:8080/"
        },
        "id": "aY3hGSwGLrEu",
        "outputId": "04057504-0aaf-4c41-c37f-f83581dcc456"
      },
      "outputs": [
        {
          "name": "stdout",
          "output_type": "stream",
          "text": [
            "\n",
            "### Phân tích kết quả:\n",
            "\n",
            "- **Kết quả tương đồng**: Kết quả dự đoán cuối cùng (RMSE và R²) giữa hai mô hình là gần như giống hệt nhau.\n",
            "- **Lý do**: Mô hình Linear Regression của bạn sử dụng 'Phương trình Chuẩn' (Normal Equation). Đối với phương pháp này, việc chuẩn hóa dữ liệu không làm thay đổi đáng kể kết quả dự đoán, nhưng nó giúp ổn định các phép tính toán bên trong và làm cho các trọng số của mô hình (theta) dễ diễn giải hơn.\n",
            "- **Kết quả đã tốt hơn**: Cả hai mô hình đều có R² dương, cho thấy việc chia dữ liệu ngẫu nhiên (shuffling) là bước xử lý đúng đắn và quan trọng.\n",
            "\n"
          ]
        }
      ],
      "source": [
        "print(\"\\n### Phân tích kết quả:\")\n",
        "print(\"\"\"\n",
        "- **Kết quả tương đồng**: Kết quả dự đoán cuối cùng (RMSE và R²) giữa hai mô hình là gần như giống hệt nhau.\n",
        "- **Lý do**: Mô hình Linear Regression của bạn sử dụng 'Phương trình Chuẩn' (Normal Equation). Đối với phương pháp này, việc chuẩn hóa dữ liệu không làm thay đổi đáng kể kết quả dự đoán, nhưng nó giúp ổn định các phép tính toán bên trong và làm cho các trọng số của mô hình (theta) dễ diễn giải hơn.\n",
        "- **Kết quả đã tốt hơn**: Cả hai mô hình đều có R² dương, cho thấy việc chia dữ liệu ngẫu nhiên (shuffling) là bước xử lý đúng đắn và quan trọng.\n",
        "\"\"\")"
      ]
    },
    {
      "cell_type": "markdown",
      "metadata": {
        "id": "5fNpqHuJU3S_"
      },
      "source": [
        "### Assignment 3 (2 scores):\n",
        "\n",
        "- Perform feature engineering to remove columns that are linearly dependent (colinear) with other columns in the dataset.\n",
        "- Evaluate the Linear Regression model when beeing trained on the original data and preprocessed data."
      ]
    },
    {
      "cell_type": "markdown",
      "metadata": {
        "id": "hwmazZG6rpJ2"
      },
      "source": [
        "[1 số pp chọn lọc dl]\n",
        "\n",
        "xem cái nào tương quan với nhau, vd độ ẩm vs nhiệt độ, lượng mưa vs độ ẩm\n",
        "\n",
        "visualization heat map, cái nào càng nhỏ càng về tím, càng lớn càng về đỏ"
      ]
    },
    {
      "cell_type": "markdown",
      "metadata": {
        "id": "lN3QTA0fU3TA"
      },
      "source": [
        "#### On the Problem of Colinearity\n",
        "\n",
        "As stated previously, the OLS of the linear regression model is achieved by assuming that $rank(X) = K$ or $det(X) \\ne 0$. So that removing columns in $X$ having colinearity with other columns is to ensure that assumption of the full rank condition of $X$. In the case $det(X) = 0$, then the **Moore-Penrose inverse** will be applied to determine the pseudo-inverse matrix of $X^T X$."
      ]
    },
    {
      "cell_type": "markdown",
      "metadata": {
        "id": "6AvRIuWEU3TA"
      },
      "source": [
        "### Assignment 4 (2 scores):\n",
        "\n",
        "- Implement the Linear Regression model using Machine Learning libraries (Scikit Learn or SKorch).\n",
        "- Compare the results of Linear Regression model constructed manually and from Machine Learning libraries."
      ]
    }
  ],
  "metadata": {
    "accelerator": "GPU",
    "colab": {
      "gpuType": "T4",
      "provenance": [],
      "toc_visible": true
    },
    "kernelspec": {
      "display_name": "kaggle",
      "language": "python",
      "name": "python3"
    },
    "language_info": {
      "codemirror_mode": {
        "name": "ipython",
        "version": 3
      },
      "file_extension": ".py",
      "mimetype": "text/x-python",
      "name": "python",
      "nbconvert_exporter": "python",
      "pygments_lexer": "ipython3",
      "version": "3.13.2"
    }
  },
  "nbformat": 4,
  "nbformat_minor": 0
}

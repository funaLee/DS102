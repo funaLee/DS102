{
 "cells": [
  {
   "cell_type": "markdown",
   "id": "67bae7c1",
   "metadata": {},
   "source": [
    "## Load CSV File"
   ]
  },
  {
   "cell_type": "markdown",
   "id": "b817f682",
   "metadata": {},
   "source": [
    "### Load CSV file"
   ]
  },
  {
   "cell_type": "code",
   "execution_count": 24,
   "id": "0b722833",
   "metadata": {},
   "outputs": [],
   "source": [
    "from csv import reader\n",
    "\n",
    "def load_csv(file_name):\n",
    "    dataset = list()\n",
    "\n",
    "    with open(file_name, 'r') as file:\n",
    "        csv_reader = reader(file)\n",
    "        for row in csv_reader:\n",
    "            if not row:\n",
    "                continue\n",
    "            dataset.append(row)\n",
    "    \n",
    "    return dataset"
   ]
  },
  {
   "cell_type": "code",
   "execution_count": 25,
   "id": "293d3b87",
   "metadata": {},
   "outputs": [
    {
     "name": "stdout",
     "output_type": "stream",
     "text": [
      "Loaded data file pima-indians-diabetes.csv with 768 rows\n",
      "['6', '148', '72', '35', '0', '33.6', '0.627', '50', '1']\n"
     ]
    }
   ],
   "source": [
    "filename = 'pima-indians-diabetes.csv'\n",
    "dataset = load_csv(filename)\n",
    "print('Loaded data file {0} with {1} rows'.format(filename, len(dataset)))\n",
    "\n",
    "print(dataset[0])  # print the first row to check"
   ]
  },
  {
   "cell_type": "markdown",
   "id": "e31f762b",
   "metadata": {},
   "source": [
    "### Convert string to floats"
   ]
  },
  {
   "cell_type": "code",
   "execution_count": 26,
   "id": "0dac9d0d",
   "metadata": {},
   "outputs": [],
   "source": [
    "def str_column_to_float(dataset, column):\n",
    "    for row in dataset:\n",
    "        row[column] = float(row[column].strip())"
   ]
  },
  {
   "cell_type": "code",
   "execution_count": 27,
   "id": "52954ea5",
   "metadata": {},
   "outputs": [
    {
     "name": "stdout",
     "output_type": "stream",
     "text": [
      "[6.0, 148.0, 72.0, 35.0, 0.0, 33.6, 0.627, 50.0, 1.0]\n"
     ]
    }
   ],
   "source": [
    "for i in range (len(dataset[0])):\n",
    "    str_column_to_float(dataset, i)\n",
    "print(dataset[0])  # print the first row to check"
   ]
  },
  {
   "cell_type": "markdown",
   "id": "9ff4dd11",
   "metadata": {},
   "source": [
    "### Convert string to integer"
   ]
  },
  {
   "cell_type": "code",
   "execution_count": 29,
   "id": "78a2826d",
   "metadata": {},
   "outputs": [],
   "source": [
    "def str_column_to_integer(dataset, column):\n",
    "    class_value = [row[column] for row in dataset]\n",
    "    unique = set(class_value)\n",
    "\n",
    "    lookup = dict()\n",
    "\n",
    "    for i, value in enumerate(unique):\n",
    "        lookup[value] = i\n",
    "\n",
    "    for row in dataset:\n",
    "        row[column] = lookup[row[column]]\n",
    "\n",
    "    return lookup"
   ]
  },
  {
   "cell_type": "code",
   "execution_count": 30,
   "id": "cede4970",
   "metadata": {},
   "outputs": [
    {
     "data": {
      "text/plain": [
       "['X',\n",
       " 'Y',\n",
       " 'month',\n",
       " 'day',\n",
       " 'FFMC',\n",
       " 'DMC',\n",
       " 'DC',\n",
       " 'ISI',\n",
       " 'temp',\n",
       " 'RH',\n",
       " 'wind',\n",
       " 'rain',\n",
       " 'area']"
      ]
     },
     "execution_count": 30,
     "metadata": {},
     "output_type": "execute_result"
    }
   ],
   "source": [
    "forestfires = load_csv('forestfires.csv')\n",
    "forestfires[0]"
   ]
  },
  {
   "cell_type": "code",
   "execution_count": 31,
   "id": "29867792",
   "metadata": {},
   "outputs": [
    {
     "data": {
      "text/plain": [
       "{'jun': 0,\n",
       " 'month': 1,\n",
       " 'jul': 2,\n",
       " 'dec': 3,\n",
       " 'sep': 4,\n",
       " 'apr': 5,\n",
       " 'may': 6,\n",
       " 'mar': 7,\n",
       " 'nov': 8,\n",
       " 'feb': 9,\n",
       " 'aug': 10,\n",
       " 'oct': 11,\n",
       " 'jan': 12}"
      ]
     },
     "execution_count": 31,
     "metadata": {},
     "output_type": "execute_result"
    }
   ],
   "source": [
    "lookup = str_column_to_integer(forestfires, 2)\n",
    "lookup"
   ]
  },
  {
   "cell_type": "markdown",
   "id": "4ad6cc0f",
   "metadata": {},
   "source": [
    "## Extensions"
   ]
  },
  {
   "cell_type": "code",
   "execution_count": null,
   "id": "663ad80e",
   "metadata": {},
   "outputs": [],
   "source": []
  }
 ],
 "metadata": {
  "kernelspec": {
   "display_name": "kaggle",
   "language": "python",
   "name": "python3"
  },
  "language_info": {
   "codemirror_mode": {
    "name": "ipython",
    "version": 3
   },
   "file_extension": ".py",
   "mimetype": "text/x-python",
   "name": "python",
   "nbconvert_exporter": "python",
   "pygments_lexer": "ipython3",
   "version": "3.13.2"
  }
 },
 "nbformat": 4,
 "nbformat_minor": 5
}
